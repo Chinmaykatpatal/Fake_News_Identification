{
 "cells": [
  {
   "cell_type": "markdown",
   "metadata": {
    "papermill": {
     "duration": 0.035174,
     "end_time": "2023-02-06T09:42:20.994600",
     "exception": false,
     "start_time": "2023-02-06T09:42:20.959426",
     "status": "completed"
    },
    "tags": []
   },
   "source": [
    "# 1.Introduction"
   ]
  },
  {
   "cell_type": "markdown",
   "metadata": {
    "papermill": {
     "duration": 0.036158,
     "end_time": "2023-02-06T09:42:21.068920",
     "exception": false,
     "start_time": "2023-02-06T09:42:21.032762",
     "status": "completed"
    },
    "tags": []
   },
   "source": [
    "\n",
    "**Welcome to the Kaggle notebook on Fake News NLP. In this notebook, we will explore how Natural Language Processing (NLP) can be used to detect and classify fake news. We will look at different techniques and approaches that can be used to identify and classify fake news and analyze their effectiveness.**\n"
   ]
  },
  {
   "cell_type": "markdown",
   "metadata": {
    "papermill": {
     "duration": 0.034568,
     "end_time": "2023-02-06T09:42:21.139946",
     "exception": false,
     "start_time": "2023-02-06T09:42:21.105378",
     "status": "completed"
    },
    "tags": []
   },
   "source": [
    "# 2. Use cases"
   ]
  },
  {
   "cell_type": "markdown",
   "metadata": {
    "papermill": {
     "duration": 0.033915,
     "end_time": "2023-02-06T09:42:21.207969",
     "exception": false,
     "start_time": "2023-02-06T09:42:21.174054",
     "status": "completed"
    },
    "tags": []
   },
   "source": [
    "**Fake news is becoming increasingly prevalent, and it can have serious implications. NLP can be used to detect and classify fake news in order to protect society from its damaging effects. Additionally, NLP can be used to identify topics and trends in news articles, which can be beneficial for research and news outlets.**"
   ]
  },
  {
   "cell_type": "code",
   "execution_count": 43,
   "metadata": {
    "_cell_guid": "b1076dfc-b9ad-4769-8c92-a6c4dae69d19",
    "_uuid": "8f2839f25d086af736a60e9eeb907d3b93b6e0e5",
    "execution": {
     "iopub.execute_input": "2023-02-06T09:42:21.284725Z",
     "iopub.status.busy": "2023-02-06T09:42:21.283930Z",
     "iopub.status.idle": "2023-02-06T09:42:21.294813Z",
     "shell.execute_reply": "2023-02-06T09:42:21.294006Z",
     "shell.execute_reply.started": "2023-02-06T09:15:08.028459Z"
    },
    "papermill": {
     "duration": 0.052295,
     "end_time": "2023-02-06T09:42:21.295056",
     "exception": false,
     "start_time": "2023-02-06T09:42:21.242761",
     "status": "completed"
    },
    "tags": []
   },
   "outputs": [],
   "source": [
    "\n",
    "\n",
    "import numpy as np \n",
    "import pandas as pd \n",
    "\n",
    "\n"
   ]
  },
  {
   "cell_type": "markdown",
   "metadata": {
    "papermill": {
     "duration": 0.035177,
     "end_time": "2023-02-06T09:42:21.365820",
     "exception": false,
     "start_time": "2023-02-06T09:42:21.330643",
     "status": "completed"
    },
    "tags": []
   },
   "source": [
    "# 3. Loading data"
   ]
  },
  {
   "cell_type": "code",
   "execution_count": 5,
   "metadata": {
    "execution": {
     "iopub.execute_input": "2023-02-06T09:42:21.440781Z",
     "iopub.status.busy": "2023-02-06T09:42:21.440008Z",
     "iopub.status.idle": "2023-02-06T09:42:23.192422Z",
     "shell.execute_reply": "2023-02-06T09:42:23.191028Z",
     "shell.execute_reply.started": "2023-02-06T09:15:08.048171Z"
    },
    "papermill": {
     "duration": 1.791573,
     "end_time": "2023-02-06T09:42:23.192666",
     "exception": false,
     "start_time": "2023-02-06T09:42:21.401093",
     "status": "completed"
    },
    "tags": []
   },
   "outputs": [
    {
     "data": {
      "text/html": [
       "<div>\n",
       "<style scoped>\n",
       "    .dataframe tbody tr th:only-of-type {\n",
       "        vertical-align: middle;\n",
       "    }\n",
       "\n",
       "    .dataframe tbody tr th {\n",
       "        vertical-align: top;\n",
       "    }\n",
       "\n",
       "    .dataframe thead th {\n",
       "        text-align: right;\n",
       "    }\n",
       "</style>\n",
       "<table border=\"1\" class=\"dataframe\">\n",
       "  <thead>\n",
       "    <tr style=\"text-align: right;\">\n",
       "      <th></th>\n",
       "      <th>title</th>\n",
       "      <th>text</th>\n",
       "      <th>subject</th>\n",
       "      <th>date</th>\n",
       "      <th>flag</th>\n",
       "    </tr>\n",
       "  </thead>\n",
       "  <tbody>\n",
       "    <tr>\n",
       "      <th>0</th>\n",
       "      <td>Donald Trump Sends Out Embarrassing New Year’...</td>\n",
       "      <td>Donald Trump just couldn t wish all Americans ...</td>\n",
       "      <td>News</td>\n",
       "      <td>December 31, 2017</td>\n",
       "      <td>0</td>\n",
       "    </tr>\n",
       "    <tr>\n",
       "      <th>1</th>\n",
       "      <td>Drunk Bragging Trump Staffer Started Russian ...</td>\n",
       "      <td>House Intelligence Committee Chairman Devin Nu...</td>\n",
       "      <td>News</td>\n",
       "      <td>December 31, 2017</td>\n",
       "      <td>0</td>\n",
       "    </tr>\n",
       "    <tr>\n",
       "      <th>2</th>\n",
       "      <td>Sheriff David Clarke Becomes An Internet Joke...</td>\n",
       "      <td>On Friday, it was revealed that former Milwauk...</td>\n",
       "      <td>News</td>\n",
       "      <td>December 30, 2017</td>\n",
       "      <td>0</td>\n",
       "    </tr>\n",
       "    <tr>\n",
       "      <th>3</th>\n",
       "      <td>Trump Is So Obsessed He Even Has Obama’s Name...</td>\n",
       "      <td>On Christmas day, Donald Trump announced that ...</td>\n",
       "      <td>News</td>\n",
       "      <td>December 29, 2017</td>\n",
       "      <td>0</td>\n",
       "    </tr>\n",
       "    <tr>\n",
       "      <th>4</th>\n",
       "      <td>Pope Francis Just Called Out Donald Trump Dur...</td>\n",
       "      <td>Pope Francis used his annual Christmas Day mes...</td>\n",
       "      <td>News</td>\n",
       "      <td>December 25, 2017</td>\n",
       "      <td>0</td>\n",
       "    </tr>\n",
       "    <tr>\n",
       "      <th>...</th>\n",
       "      <td>...</td>\n",
       "      <td>...</td>\n",
       "      <td>...</td>\n",
       "      <td>...</td>\n",
       "      <td>...</td>\n",
       "    </tr>\n",
       "    <tr>\n",
       "      <th>23476</th>\n",
       "      <td>McPain: John McCain Furious That Iran Treated ...</td>\n",
       "      <td>21st Century Wire says As 21WIRE reported earl...</td>\n",
       "      <td>Middle-east</td>\n",
       "      <td>January 16, 2016</td>\n",
       "      <td>0</td>\n",
       "    </tr>\n",
       "    <tr>\n",
       "      <th>23477</th>\n",
       "      <td>JUSTICE? Yahoo Settles E-mail Privacy Class-ac...</td>\n",
       "      <td>21st Century Wire says It s a familiar theme. ...</td>\n",
       "      <td>Middle-east</td>\n",
       "      <td>January 16, 2016</td>\n",
       "      <td>0</td>\n",
       "    </tr>\n",
       "    <tr>\n",
       "      <th>23478</th>\n",
       "      <td>Sunnistan: US and Allied ‘Safe Zone’ Plan to T...</td>\n",
       "      <td>Patrick Henningsen  21st Century WireRemember ...</td>\n",
       "      <td>Middle-east</td>\n",
       "      <td>January 15, 2016</td>\n",
       "      <td>0</td>\n",
       "    </tr>\n",
       "    <tr>\n",
       "      <th>23479</th>\n",
       "      <td>How to Blow $700 Million: Al Jazeera America F...</td>\n",
       "      <td>21st Century Wire says Al Jazeera America will...</td>\n",
       "      <td>Middle-east</td>\n",
       "      <td>January 14, 2016</td>\n",
       "      <td>0</td>\n",
       "    </tr>\n",
       "    <tr>\n",
       "      <th>23480</th>\n",
       "      <td>10 U.S. Navy Sailors Held by Iranian Military ...</td>\n",
       "      <td>21st Century Wire says As 21WIRE predicted in ...</td>\n",
       "      <td>Middle-east</td>\n",
       "      <td>January 12, 2016</td>\n",
       "      <td>0</td>\n",
       "    </tr>\n",
       "  </tbody>\n",
       "</table>\n",
       "<p>23481 rows × 5 columns</p>\n",
       "</div>"
      ],
      "text/plain": [
       "                                                   title  \\\n",
       "0       Donald Trump Sends Out Embarrassing New Year’...   \n",
       "1       Drunk Bragging Trump Staffer Started Russian ...   \n",
       "2       Sheriff David Clarke Becomes An Internet Joke...   \n",
       "3       Trump Is So Obsessed He Even Has Obama’s Name...   \n",
       "4       Pope Francis Just Called Out Donald Trump Dur...   \n",
       "...                                                  ...   \n",
       "23476  McPain: John McCain Furious That Iran Treated ...   \n",
       "23477  JUSTICE? Yahoo Settles E-mail Privacy Class-ac...   \n",
       "23478  Sunnistan: US and Allied ‘Safe Zone’ Plan to T...   \n",
       "23479  How to Blow $700 Million: Al Jazeera America F...   \n",
       "23480  10 U.S. Navy Sailors Held by Iranian Military ...   \n",
       "\n",
       "                                                    text      subject  \\\n",
       "0      Donald Trump just couldn t wish all Americans ...         News   \n",
       "1      House Intelligence Committee Chairman Devin Nu...         News   \n",
       "2      On Friday, it was revealed that former Milwauk...         News   \n",
       "3      On Christmas day, Donald Trump announced that ...         News   \n",
       "4      Pope Francis used his annual Christmas Day mes...         News   \n",
       "...                                                  ...          ...   \n",
       "23476  21st Century Wire says As 21WIRE reported earl...  Middle-east   \n",
       "23477  21st Century Wire says It s a familiar theme. ...  Middle-east   \n",
       "23478  Patrick Henningsen  21st Century WireRemember ...  Middle-east   \n",
       "23479  21st Century Wire says Al Jazeera America will...  Middle-east   \n",
       "23480  21st Century Wire says As 21WIRE predicted in ...  Middle-east   \n",
       "\n",
       "                    date  flag  \n",
       "0      December 31, 2017     0  \n",
       "1      December 31, 2017     0  \n",
       "2      December 30, 2017     0  \n",
       "3      December 29, 2017     0  \n",
       "4      December 25, 2017     0  \n",
       "...                  ...   ...  \n",
       "23476   January 16, 2016     0  \n",
       "23477   January 16, 2016     0  \n",
       "23478   January 15, 2016     0  \n",
       "23479   January 14, 2016     0  \n",
       "23480   January 12, 2016     0  \n",
       "\n",
       "[23481 rows x 5 columns]"
      ]
     },
     "execution_count": 5,
     "metadata": {},
     "output_type": "execute_result"
    }
   ],
   "source": [
    "fake = pd.read_csv('Fake.csv')\n",
    "fake['flag'] = 0\n",
    "fake"
   ]
  },
  {
   "cell_type": "code",
   "execution_count": 6,
   "metadata": {
    "execution": {
     "iopub.execute_input": "2023-02-06T09:42:23.270362Z",
     "iopub.status.busy": "2023-02-06T09:42:23.269495Z",
     "iopub.status.idle": "2023-02-06T09:42:24.779598Z",
     "shell.execute_reply": "2023-02-06T09:42:24.778358Z",
     "shell.execute_reply.started": "2023-02-06T09:15:09.876629Z"
    },
    "papermill": {
     "duration": 1.551816,
     "end_time": "2023-02-06T09:42:24.779796",
     "exception": false,
     "start_time": "2023-02-06T09:42:23.227980",
     "status": "completed"
    },
    "tags": []
   },
   "outputs": [
    {
     "data": {
      "text/html": [
       "<div>\n",
       "<style scoped>\n",
       "    .dataframe tbody tr th:only-of-type {\n",
       "        vertical-align: middle;\n",
       "    }\n",
       "\n",
       "    .dataframe tbody tr th {\n",
       "        vertical-align: top;\n",
       "    }\n",
       "\n",
       "    .dataframe thead th {\n",
       "        text-align: right;\n",
       "    }\n",
       "</style>\n",
       "<table border=\"1\" class=\"dataframe\">\n",
       "  <thead>\n",
       "    <tr style=\"text-align: right;\">\n",
       "      <th></th>\n",
       "      <th>title</th>\n",
       "      <th>text</th>\n",
       "      <th>subject</th>\n",
       "      <th>date</th>\n",
       "      <th>flag</th>\n",
       "    </tr>\n",
       "  </thead>\n",
       "  <tbody>\n",
       "    <tr>\n",
       "      <th>0</th>\n",
       "      <td>As U.S. budget fight looms, Republicans flip t...</td>\n",
       "      <td>WASHINGTON (Reuters) - The head of a conservat...</td>\n",
       "      <td>politicsNews</td>\n",
       "      <td>December 31, 2017</td>\n",
       "      <td>1</td>\n",
       "    </tr>\n",
       "    <tr>\n",
       "      <th>1</th>\n",
       "      <td>U.S. military to accept transgender recruits o...</td>\n",
       "      <td>WASHINGTON (Reuters) - Transgender people will...</td>\n",
       "      <td>politicsNews</td>\n",
       "      <td>December 29, 2017</td>\n",
       "      <td>1</td>\n",
       "    </tr>\n",
       "    <tr>\n",
       "      <th>2</th>\n",
       "      <td>Senior U.S. Republican senator: 'Let Mr. Muell...</td>\n",
       "      <td>WASHINGTON (Reuters) - The special counsel inv...</td>\n",
       "      <td>politicsNews</td>\n",
       "      <td>December 31, 2017</td>\n",
       "      <td>1</td>\n",
       "    </tr>\n",
       "    <tr>\n",
       "      <th>3</th>\n",
       "      <td>FBI Russia probe helped by Australian diplomat...</td>\n",
       "      <td>WASHINGTON (Reuters) - Trump campaign adviser ...</td>\n",
       "      <td>politicsNews</td>\n",
       "      <td>December 30, 2017</td>\n",
       "      <td>1</td>\n",
       "    </tr>\n",
       "    <tr>\n",
       "      <th>4</th>\n",
       "      <td>Trump wants Postal Service to charge 'much mor...</td>\n",
       "      <td>SEATTLE/WASHINGTON (Reuters) - President Donal...</td>\n",
       "      <td>politicsNews</td>\n",
       "      <td>December 29, 2017</td>\n",
       "      <td>1</td>\n",
       "    </tr>\n",
       "    <tr>\n",
       "      <th>...</th>\n",
       "      <td>...</td>\n",
       "      <td>...</td>\n",
       "      <td>...</td>\n",
       "      <td>...</td>\n",
       "      <td>...</td>\n",
       "    </tr>\n",
       "    <tr>\n",
       "      <th>21412</th>\n",
       "      <td>'Fully committed' NATO backs new U.S. approach...</td>\n",
       "      <td>BRUSSELS (Reuters) - NATO allies on Tuesday we...</td>\n",
       "      <td>worldnews</td>\n",
       "      <td>August 22, 2017</td>\n",
       "      <td>1</td>\n",
       "    </tr>\n",
       "    <tr>\n",
       "      <th>21413</th>\n",
       "      <td>LexisNexis withdrew two products from Chinese ...</td>\n",
       "      <td>LONDON (Reuters) - LexisNexis, a provider of l...</td>\n",
       "      <td>worldnews</td>\n",
       "      <td>August 22, 2017</td>\n",
       "      <td>1</td>\n",
       "    </tr>\n",
       "    <tr>\n",
       "      <th>21414</th>\n",
       "      <td>Minsk cultural hub becomes haven from authorities</td>\n",
       "      <td>MINSK (Reuters) - In the shadow of disused Sov...</td>\n",
       "      <td>worldnews</td>\n",
       "      <td>August 22, 2017</td>\n",
       "      <td>1</td>\n",
       "    </tr>\n",
       "    <tr>\n",
       "      <th>21415</th>\n",
       "      <td>Vatican upbeat on possibility of Pope Francis ...</td>\n",
       "      <td>MOSCOW (Reuters) - Vatican Secretary of State ...</td>\n",
       "      <td>worldnews</td>\n",
       "      <td>August 22, 2017</td>\n",
       "      <td>1</td>\n",
       "    </tr>\n",
       "    <tr>\n",
       "      <th>21416</th>\n",
       "      <td>Indonesia to buy $1.14 billion worth of Russia...</td>\n",
       "      <td>JAKARTA (Reuters) - Indonesia will buy 11 Sukh...</td>\n",
       "      <td>worldnews</td>\n",
       "      <td>August 22, 2017</td>\n",
       "      <td>1</td>\n",
       "    </tr>\n",
       "  </tbody>\n",
       "</table>\n",
       "<p>21417 rows × 5 columns</p>\n",
       "</div>"
      ],
      "text/plain": [
       "                                                   title  \\\n",
       "0      As U.S. budget fight looms, Republicans flip t...   \n",
       "1      U.S. military to accept transgender recruits o...   \n",
       "2      Senior U.S. Republican senator: 'Let Mr. Muell...   \n",
       "3      FBI Russia probe helped by Australian diplomat...   \n",
       "4      Trump wants Postal Service to charge 'much mor...   \n",
       "...                                                  ...   \n",
       "21412  'Fully committed' NATO backs new U.S. approach...   \n",
       "21413  LexisNexis withdrew two products from Chinese ...   \n",
       "21414  Minsk cultural hub becomes haven from authorities   \n",
       "21415  Vatican upbeat on possibility of Pope Francis ...   \n",
       "21416  Indonesia to buy $1.14 billion worth of Russia...   \n",
       "\n",
       "                                                    text       subject  \\\n",
       "0      WASHINGTON (Reuters) - The head of a conservat...  politicsNews   \n",
       "1      WASHINGTON (Reuters) - Transgender people will...  politicsNews   \n",
       "2      WASHINGTON (Reuters) - The special counsel inv...  politicsNews   \n",
       "3      WASHINGTON (Reuters) - Trump campaign adviser ...  politicsNews   \n",
       "4      SEATTLE/WASHINGTON (Reuters) - President Donal...  politicsNews   \n",
       "...                                                  ...           ...   \n",
       "21412  BRUSSELS (Reuters) - NATO allies on Tuesday we...     worldnews   \n",
       "21413  LONDON (Reuters) - LexisNexis, a provider of l...     worldnews   \n",
       "21414  MINSK (Reuters) - In the shadow of disused Sov...     worldnews   \n",
       "21415  MOSCOW (Reuters) - Vatican Secretary of State ...     worldnews   \n",
       "21416  JAKARTA (Reuters) - Indonesia will buy 11 Sukh...     worldnews   \n",
       "\n",
       "                     date  flag  \n",
       "0      December 31, 2017      1  \n",
       "1      December 29, 2017      1  \n",
       "2      December 31, 2017      1  \n",
       "3      December 30, 2017      1  \n",
       "4      December 29, 2017      1  \n",
       "...                   ...   ...  \n",
       "21412    August 22, 2017      1  \n",
       "21413    August 22, 2017      1  \n",
       "21414    August 22, 2017      1  \n",
       "21415    August 22, 2017      1  \n",
       "21416    August 22, 2017      1  \n",
       "\n",
       "[21417 rows x 5 columns]"
      ]
     },
     "execution_count": 6,
     "metadata": {},
     "output_type": "execute_result"
    }
   ],
   "source": [
    "true = pd.read_csv('True.csv')\n",
    "true['flag'] = 1\n",
    "true"
   ]
  },
  {
   "cell_type": "code",
   "execution_count": 7,
   "metadata": {
    "execution": {
     "iopub.execute_input": "2023-02-06T09:42:24.858668Z",
     "iopub.status.busy": "2023-02-06T09:42:24.857882Z",
     "iopub.status.idle": "2023-02-06T09:42:24.868860Z",
     "shell.execute_reply": "2023-02-06T09:42:24.868042Z",
     "shell.execute_reply.started": "2023-02-06T09:15:11.398616Z"
    },
    "papermill": {
     "duration": 0.053114,
     "end_time": "2023-02-06T09:42:24.869047",
     "exception": false,
     "start_time": "2023-02-06T09:42:24.815933",
     "status": "completed"
    },
    "tags": []
   },
   "outputs": [
    {
     "name": "stderr",
     "output_type": "stream",
     "text": [
      "C:\\Users\\chinm\\AppData\\Local\\Temp\\ipykernel_10520\\1161961970.py:2: FutureWarning: The frame.append method is deprecated and will be removed from pandas in a future version. Use pandas.concat instead.\n",
      "  df = true.append(fake)\n"
     ]
    }
   ],
   "source": [
    "df = pd.DataFrame()\n",
    "df = true.append(fake)"
   ]
  },
  {
   "cell_type": "markdown",
   "metadata": {
    "papermill": {
     "duration": 0.037947,
     "end_time": "2023-02-06T09:42:24.945029",
     "exception": false,
     "start_time": "2023-02-06T09:42:24.907082",
     "status": "completed"
    },
    "tags": []
   },
   "source": [
    "# 4. EDA + Data cleaning"
   ]
  },
  {
   "cell_type": "markdown",
   "metadata": {
    "papermill": {
     "duration": 0.037659,
     "end_time": "2023-02-06T09:42:25.018613",
     "exception": false,
     "start_time": "2023-02-06T09:42:24.980954",
     "status": "completed"
    },
    "tags": []
   },
   "source": [
    "**Let's check the datatypes.**"
   ]
  },
  {
   "cell_type": "code",
   "execution_count": 8,
   "metadata": {
    "execution": {
     "iopub.execute_input": "2023-02-06T09:42:25.115142Z",
     "iopub.status.busy": "2023-02-06T09:42:25.114298Z",
     "iopub.status.idle": "2023-02-06T09:42:25.135848Z",
     "shell.execute_reply": "2023-02-06T09:42:25.135132Z",
     "shell.execute_reply.started": "2023-02-06T09:15:11.413428Z"
    },
    "papermill": {
     "duration": 0.0791,
     "end_time": "2023-02-06T09:42:25.136024",
     "exception": false,
     "start_time": "2023-02-06T09:42:25.056924",
     "status": "completed"
    },
    "tags": []
   },
   "outputs": [
    {
     "name": "stdout",
     "output_type": "stream",
     "text": [
      "<class 'pandas.core.frame.DataFrame'>\n",
      "Int64Index: 44898 entries, 0 to 23480\n",
      "Data columns (total 5 columns):\n",
      " #   Column   Non-Null Count  Dtype \n",
      "---  ------   --------------  ----- \n",
      " 0   title    44898 non-null  object\n",
      " 1   text     44898 non-null  object\n",
      " 2   subject  44898 non-null  object\n",
      " 3   date     44898 non-null  object\n",
      " 4   flag     44898 non-null  int64 \n",
      "dtypes: int64(1), object(4)\n",
      "memory usage: 2.1+ MB\n"
     ]
    }
   ],
   "source": [
    "df.info()"
   ]
  },
  {
   "cell_type": "markdown",
   "metadata": {
    "papermill": {
     "duration": 0.036919,
     "end_time": "2023-02-06T09:42:25.209355",
     "exception": false,
     "start_time": "2023-02-06T09:42:25.172436",
     "status": "completed"
    },
    "tags": []
   },
   "source": [
    "**Removing the duplicates and preventing problems with indexing.**"
   ]
  },
  {
   "cell_type": "code",
   "execution_count": 9,
   "metadata": {
    "execution": {
     "iopub.execute_input": "2023-02-06T09:42:25.295911Z",
     "iopub.status.busy": "2023-02-06T09:42:25.295117Z",
     "iopub.status.idle": "2023-02-06T09:42:25.669745Z",
     "shell.execute_reply": "2023-02-06T09:42:25.669039Z",
     "shell.execute_reply.started": "2023-02-06T09:15:11.455126Z"
    },
    "papermill": {
     "duration": 0.424113,
     "end_time": "2023-02-06T09:42:25.669937",
     "exception": false,
     "start_time": "2023-02-06T09:42:25.245824",
     "status": "completed"
    },
    "tags": []
   },
   "outputs": [],
   "source": [
    "df = df.drop_duplicates()\n",
    "df = df.reset_index(drop=True)"
   ]
  },
  {
   "cell_type": "markdown",
   "metadata": {
    "papermill": {
     "duration": 0.035805,
     "end_time": "2023-02-06T09:42:25.744706",
     "exception": false,
     "start_time": "2023-02-06T09:42:25.708901",
     "status": "completed"
    },
    "tags": []
   },
   "source": [
    "**We can see that the date format is not the one we need. I will apply the appropriate date format for future purposes.**"
   ]
  },
  {
   "cell_type": "code",
   "execution_count": 10,
   "metadata": {
    "execution": {
     "iopub.execute_input": "2023-02-06T09:42:25.831511Z",
     "iopub.status.busy": "2023-02-06T09:42:25.828269Z",
     "iopub.status.idle": "2023-02-06T09:42:26.202311Z",
     "shell.execute_reply": "2023-02-06T09:42:26.201482Z",
     "shell.execute_reply.started": "2023-02-06T09:15:11.831232Z"
    },
    "papermill": {
     "duration": 0.420929,
     "end_time": "2023-02-06T09:42:26.202501",
     "exception": false,
     "start_time": "2023-02-06T09:42:25.781572",
     "status": "completed"
    },
    "tags": []
   },
   "outputs": [],
   "source": [
    "# Correcting some data\n",
    "df['date'] = df['date'].replace(['19-Feb-18'],'February 19, 2018')\n",
    "df['date'] = df['date'].replace(['18-Feb-18'],'February 18, 2018')\n",
    "df['date'] = df['date'].replace(['17-Feb-18'],'February 17, 2018')\n",
    "df['date'] = df['date'].replace(['16-Feb-18'],'February 16, 2018')\n",
    "df['date'] = df['date'].replace(['15-Feb-18'],'February 15, 2018')\n",
    "df['date'] = df['date'].replace(['14-Feb-18'],'February 14, 2018')\n",
    "df['date'] = df['date'].replace(['13-Feb-18'],'February 13, 2018')\n",
    "\n",
    "\n",
    "df['date'] = df['date'].str.replace('Dec ', 'December ')\n",
    "df['date'] = df['date'].str.replace('Nov ', 'November ')\n",
    "df['date'] = df['date'].str.replace('Oct ', 'October ')\n",
    "df['date'] = df['date'].str.replace('Sep ', 'September ')\n",
    "df['date'] = df['date'].str.replace('Aug ', 'August ')\n",
    "df['date'] = df['date'].str.replace('Jul ', 'July ')\n",
    "df['date'] = df['date'].str.replace('Jun ', 'June ')\n",
    "df['date'] = df['date'].str.replace('Apr ', 'April ')\n",
    "df['date'] = df['date'].str.replace('Mar ', 'March ')\n",
    "df['date'] = df['date'].str.replace('Feb ', 'February ')\n",
    "df['date'] = df['date'].str.replace('Jan ', 'January ')"
   ]
  },
  {
   "cell_type": "code",
   "execution_count": 11,
   "metadata": {
    "execution": {
     "iopub.execute_input": "2023-02-06T09:42:26.284908Z",
     "iopub.status.busy": "2023-02-06T09:42:26.284152Z",
     "iopub.status.idle": "2023-02-06T09:42:26.312416Z",
     "shell.execute_reply": "2023-02-06T09:42:26.313266Z",
     "shell.execute_reply.started": "2023-02-06T09:15:12.211299Z"
    },
    "papermill": {
     "duration": 0.07473,
     "end_time": "2023-02-06T09:42:26.313492",
     "exception": false,
     "start_time": "2023-02-06T09:42:26.238762",
     "status": "completed"
    },
    "tags": []
   },
   "outputs": [],
   "source": [
    "df['date'] = df['date'].str.replace(' ', '')"
   ]
  },
  {
   "cell_type": "code",
   "execution_count": 12,
   "metadata": {
    "execution": {
     "iopub.execute_input": "2023-02-06T09:42:26.391773Z",
     "iopub.status.busy": "2023-02-06T09:42:26.391007Z",
     "iopub.status.idle": "2023-02-06T09:43:16.309587Z",
     "shell.execute_reply": "2023-02-06T09:43:16.308929Z",
     "shell.execute_reply.started": "2023-02-06T09:15:12.248245Z"
    },
    "papermill": {
     "duration": 49.959988,
     "end_time": "2023-02-06T09:43:16.309802",
     "exception": false,
     "start_time": "2023-02-06T09:42:26.349814",
     "status": "completed"
    },
    "tags": []
   },
   "outputs": [
    {
     "name": "stderr",
     "output_type": "stream",
     "text": [
      "C:\\Users\\chinm\\AppData\\Local\\Temp\\ipykernel_10520\\4131477839.py:2: SettingWithCopyWarning: \n",
      "A value is trying to be set on a copy of a slice from a DataFrame\n",
      "\n",
      "See the caveats in the documentation: https://pandas.pydata.org/pandas-docs/stable/user_guide/indexing.html#returning-a-view-versus-a-copy\n",
      "  df['date'].iloc[i] = pd.to_datetime(df['date'].iloc[i], format='%B%d,%Y', errors='coerce') # by setting the parameter to \"coerce\", we will set unappropriate values to NaT (null)\n"
     ]
    }
   ],
   "source": [
    "for i, val in enumerate(df['date']):\n",
    "    df['date'].iloc[i] = pd.to_datetime(df['date'].iloc[i], format='%B%d,%Y', errors='coerce') # by setting the parameter to \"coerce\", we will set unappropriate values to NaT (null)"
   ]
  },
  {
   "cell_type": "code",
   "execution_count": 13,
   "metadata": {
    "execution": {
     "iopub.execute_input": "2023-02-06T09:43:16.420309Z",
     "iopub.status.busy": "2023-02-06T09:43:16.419461Z",
     "iopub.status.idle": "2023-02-06T09:43:16.432121Z",
     "shell.execute_reply": "2023-02-06T09:43:16.431424Z",
     "shell.execute_reply.started": "2023-02-06T09:16:04.217454Z"
    },
    "papermill": {
     "duration": 0.085175,
     "end_time": "2023-02-06T09:43:16.432332",
     "exception": false,
     "start_time": "2023-02-06T09:43:16.347157",
     "status": "completed"
    },
    "tags": []
   },
   "outputs": [],
   "source": [
    "df['date'] = df['date'].astype('datetime64[ns]')"
   ]
  },
  {
   "cell_type": "code",
   "execution_count": 14,
   "metadata": {
    "execution": {
     "iopub.execute_input": "2023-02-06T09:43:16.525020Z",
     "iopub.status.busy": "2023-02-06T09:43:16.524078Z",
     "iopub.status.idle": "2023-02-06T09:43:16.537586Z",
     "shell.execute_reply": "2023-02-06T09:43:16.538160Z",
     "shell.execute_reply.started": "2023-02-06T09:16:04.263079Z"
    },
    "papermill": {
     "duration": 0.068871,
     "end_time": "2023-02-06T09:43:16.538398",
     "exception": false,
     "start_time": "2023-02-06T09:43:16.469527",
     "status": "completed"
    },
    "tags": []
   },
   "outputs": [
    {
     "name": "stdout",
     "output_type": "stream",
     "text": [
      "<class 'pandas.core.frame.DataFrame'>\n",
      "RangeIndex: 44689 entries, 0 to 44688\n",
      "Data columns (total 5 columns):\n",
      " #   Column   Non-Null Count  Dtype         \n",
      "---  ------   --------------  -----         \n",
      " 0   title    44689 non-null  object        \n",
      " 1   text     44689 non-null  object        \n",
      " 2   subject  44689 non-null  object        \n",
      " 3   date     44679 non-null  datetime64[ns]\n",
      " 4   flag     44689 non-null  int64         \n",
      "dtypes: datetime64[ns](1), int64(1), object(3)\n",
      "memory usage: 1.7+ MB\n"
     ]
    }
   ],
   "source": [
    "df.info()"
   ]
  },
  {
   "cell_type": "code",
   "execution_count": 15,
   "metadata": {
    "execution": {
     "iopub.execute_input": "2023-02-06T09:43:16.629262Z",
     "iopub.status.busy": "2023-02-06T09:43:16.628363Z",
     "iopub.status.idle": "2023-02-06T09:43:16.933548Z",
     "shell.execute_reply": "2023-02-06T09:43:16.932750Z",
     "shell.execute_reply.started": "2023-02-06T09:16:04.296790Z"
    },
    "papermill": {
     "duration": 0.358041,
     "end_time": "2023-02-06T09:43:16.933731",
     "exception": false,
     "start_time": "2023-02-06T09:43:16.575690",
     "status": "completed"
    },
    "tags": []
   },
   "outputs": [],
   "source": [
    "import datetime as dt\n",
    "df['year'] = pd.to_datetime(df['date']).dt.to_period('Y')\n",
    "df['month'] = pd.to_datetime(df['date']).dt.to_period('M')\n",
    "\n",
    "df['month'] = df['month'].astype(str)"
   ]
  },
  {
   "cell_type": "markdown",
   "metadata": {
    "papermill": {
     "duration": 0.03627,
     "end_time": "2023-02-06T09:43:17.006828",
     "exception": false,
     "start_time": "2023-02-06T09:43:16.970558",
     "status": "completed"
    },
    "tags": []
   },
   "source": [
    "## Non-text feature plotting (date, subject)"
   ]
  },
  {
   "cell_type": "markdown",
   "metadata": {
    "papermill": {
     "duration": 0.037775,
     "end_time": "2023-02-06T09:43:17.082895",
     "exception": false,
     "start_time": "2023-02-06T09:43:17.045120",
     "status": "completed"
    },
    "tags": []
   },
   "source": [
    "**Here we will try to elicit insights from non-text features to get to know if they will help us boost the Text Classifier.**"
   ]
  },
  {
   "cell_type": "code",
   "execution_count": 16,
   "metadata": {
    "execution": {
     "iopub.execute_input": "2023-02-06T09:43:17.179284Z",
     "iopub.status.busy": "2023-02-06T09:43:17.165732Z",
     "iopub.status.idle": "2023-02-06T09:43:17.213315Z",
     "shell.execute_reply": "2023-02-06T09:43:17.214054Z",
     "shell.execute_reply.started": "2023-02-06T09:16:04.609685Z"
    },
    "papermill": {
     "duration": 0.094256,
     "end_time": "2023-02-06T09:43:17.214307",
     "exception": false,
     "start_time": "2023-02-06T09:43:17.120051",
     "status": "completed"
    },
    "tags": []
   },
   "outputs": [],
   "source": [
    "sub = df[['month', 'flag']]\n",
    "sub = sub.dropna()\n",
    "sub = sub.groupby(['month'])['flag'].sum()"
   ]
  },
  {
   "cell_type": "code",
   "execution_count": 17,
   "metadata": {
    "execution": {
     "iopub.execute_input": "2023-02-06T09:43:17.291909Z",
     "iopub.status.busy": "2023-02-06T09:43:17.290879Z",
     "iopub.status.idle": "2023-02-06T09:43:17.296710Z",
     "shell.execute_reply": "2023-02-06T09:43:17.297371Z",
     "shell.execute_reply.started": "2023-02-06T09:16:04.663688Z"
    },
    "papermill": {
     "duration": 0.046684,
     "end_time": "2023-02-06T09:43:17.297607",
     "exception": false,
     "start_time": "2023-02-06T09:43:17.250923",
     "status": "completed"
    },
    "tags": []
   },
   "outputs": [],
   "source": [
    "sub = sub.drop('NaT')"
   ]
  },
  {
   "cell_type": "code",
   "execution_count": 18,
   "metadata": {
    "execution": {
     "iopub.execute_input": "2023-02-06T09:43:17.378050Z",
     "iopub.status.busy": "2023-02-06T09:43:17.376983Z",
     "iopub.status.idle": "2023-02-06T09:43:17.738626Z",
     "shell.execute_reply": "2023-02-06T09:43:17.737889Z",
     "shell.execute_reply.started": "2023-02-06T09:16:04.672164Z"
    },
    "papermill": {
     "duration": 0.403185,
     "end_time": "2023-02-06T09:43:17.738812",
     "exception": false,
     "start_time": "2023-02-06T09:43:17.335627",
     "status": "completed"
    },
    "tags": []
   },
   "outputs": [
    {
     "data": {
      "text/plain": [
       "[<matplotlib.lines.Line2D at 0x1b1dd858790>]"
      ]
     },
     "execution_count": 18,
     "metadata": {},
     "output_type": "execute_result"
    },
    {
     "data": {
      "image/png": "[encoded data removed]",
      "text/plain": [
       "<Figure size 640x480 with 1 Axes>"
      ]
     },
     "metadata": {},
     "output_type": "display_data"
    }
   ],
   "source": [
    "import matplotlib.pyplot as plt\n",
    "\n",
    "plt.suptitle('Dynamics of fake news')\n",
    "plt.xticks(rotation=90)\n",
    "plt.ylabel('Number of fake news')\n",
    "plt.xlabel('Month-Year')\n",
    "plt.plot(sub.index, sub.values, linewidth=2, color='green')"
   ]
  },
  {
   "cell_type": "markdown",
   "metadata": {
    "papermill": {
     "duration": 0.038708,
     "end_time": "2023-02-06T09:43:17.815798",
     "exception": false,
     "start_time": "2023-02-06T09:43:17.777090",
     "status": "completed"
    },
    "tags": []
   },
   "source": [
    "**What a spike in the dynamics of fake news in late 2017!**"
   ]
  },
  {
   "cell_type": "code",
   "execution_count": 19,
   "metadata": {
    "execution": {
     "iopub.execute_input": "2023-02-06T09:43:17.906933Z",
     "iopub.status.busy": "2023-02-06T09:43:17.906043Z",
     "iopub.status.idle": "2023-02-06T09:43:17.937909Z",
     "shell.execute_reply": "2023-02-06T09:43:17.938790Z",
     "shell.execute_reply.started": "2023-02-06T09:16:05.048707Z"
    },
    "papermill": {
     "duration": 0.085478,
     "end_time": "2023-02-06T09:43:17.939129",
     "exception": false,
     "start_time": "2023-02-06T09:43:17.853651",
     "status": "completed"
    },
    "tags": []
   },
   "outputs": [],
   "source": [
    "sub2 = df[['subject', 'flag']]\n",
    "sub2 = sub2.dropna()\n",
    "sub2 = sub2.groupby(['subject'])['flag'].sum()"
   ]
  },
  {
   "cell_type": "code",
   "execution_count": 20,
   "metadata": {
    "execution": {
     "iopub.execute_input": "2023-02-06T09:43:18.035415Z",
     "iopub.status.busy": "2023-02-06T09:43:18.034282Z",
     "iopub.status.idle": "2023-02-06T09:43:18.218096Z",
     "shell.execute_reply": "2023-02-06T09:43:18.217505Z",
     "shell.execute_reply.started": "2023-02-06T09:16:05.072875Z"
    },
    "papermill": {
     "duration": 0.232023,
     "end_time": "2023-02-06T09:43:18.218281",
     "exception": false,
     "start_time": "2023-02-06T09:43:17.986258",
     "status": "completed"
    },
    "tags": []
   },
   "outputs": [
    {
     "data": {
      "text/plain": [
       "<BarContainer object of 8 artists>"
      ]
     },
     "execution_count": 20,
     "metadata": {},
     "output_type": "execute_result"
    },
    {
     "data": {
      "image/png": "[encoded data removed]",
      "text/plain": [
       "<Figure size 640x480 with 1 Axes>"
      ]
     },
     "metadata": {},
     "output_type": "display_data"
    }
   ],
   "source": [
    "plt.suptitle('Fake news among different categories')\n",
    "plt.xticks(rotation=90)\n",
    "plt.ylabel('Number of fake news')\n",
    "plt.xlabel('Category')\n",
    "\n",
    "plt.bar(sub2.index, height=sub2.values, color='green')\n",
    "#ax1.plot(x, y)\n",
    "#ax2.plot(x, -y)"
   ]
  },
  {
   "cell_type": "markdown",
   "metadata": {
    "papermill": {
     "duration": 0.038935,
     "end_time": "2023-02-06T09:43:18.297064",
     "exception": false,
     "start_time": "2023-02-06T09:43:18.258129",
     "status": "completed"
    },
    "tags": []
   },
   "source": [
    "**As we have discovered, such features as**\n",
    "* subject\n",
    "* date\n",
    "\n",
    "**might be also crucial for the algorithm to decide whether the piece of news is fake or real. We will try to include them in the model.**"
   ]
  },
  {
   "cell_type": "markdown",
   "metadata": {
    "papermill": {
     "duration": 0.040274,
     "end_time": "2023-02-06T09:43:18.378130",
     "exception": false,
     "start_time": "2023-02-06T09:43:18.337856",
     "status": "completed"
    },
    "tags": []
   },
   "source": [
    "**The goal of this notebook is to explore the use of NLP for detecting and classifying fake news. We will analyze different techniques and approaches and evaluate their effectiveness.**"
   ]
  },
  {
   "cell_type": "markdown",
   "metadata": {
    "papermill": {
     "duration": 0.039082,
     "end_time": "2023-02-06T09:43:18.456853",
     "exception": false,
     "start_time": "2023-02-06T09:43:18.417771",
     "status": "completed"
    },
    "tags": []
   },
   "source": [
    "# 5. Text preparation"
   ]
  },
  {
   "cell_type": "code",
   "execution_count": 21,
   "metadata": {
    "execution": {
     "iopub.execute_input": "2023-02-06T09:43:18.544464Z",
     "iopub.status.busy": "2023-02-06T09:43:18.543221Z",
     "iopub.status.idle": "2023-02-06T09:43:18.546539Z",
     "shell.execute_reply": "2023-02-06T09:43:18.545831Z",
     "shell.execute_reply.started": "2023-02-06T09:16:05.253546Z"
    },
    "papermill": {
     "duration": 0.049155,
     "end_time": "2023-02-06T09:43:18.546718",
     "exception": false,
     "start_time": "2023-02-06T09:43:18.497563",
     "status": "completed"
    },
    "tags": []
   },
   "outputs": [],
   "source": [
    "nlp = df"
   ]
  },
  {
   "cell_type": "markdown",
   "metadata": {
    "papermill": {
     "duration": 0.038746,
     "end_time": "2023-02-06T09:43:18.625054",
     "exception": false,
     "start_time": "2023-02-06T09:43:18.586308",
     "status": "completed"
    },
    "tags": []
   },
   "source": [
    "**I will add the 'subject' feature to the title field as it might have an influence on the outcome of classification.**"
   ]
  },
  {
   "cell_type": "code",
   "execution_count": 24,
   "metadata": {
    "execution": {
     "iopub.execute_input": "2023-02-06T09:43:18.709520Z",
     "iopub.status.busy": "2023-02-06T09:43:18.708809Z",
     "iopub.status.idle": "2023-02-06T09:43:18.711542Z",
     "shell.execute_reply": "2023-02-06T09:43:18.712096Z",
     "shell.execute_reply.started": "2023-02-06T09:16:05.260295Z"
    },
    "papermill": {
     "duration": 0.047856,
     "end_time": "2023-02-06T09:43:18.712341",
     "exception": false,
     "start_time": "2023-02-06T09:43:18.664485",
     "status": "completed"
    },
    "tags": []
   },
   "outputs": [],
   "source": [
    "nlp['title'] = nlp['title'] + ' ' + nlp['subject']"
   ]
  },
  {
   "cell_type": "markdown",
   "metadata": {
    "papermill": {
     "duration": 0.040614,
     "end_time": "2023-02-06T09:43:18.793411",
     "exception": false,
     "start_time": "2023-02-06T09:43:18.752797",
     "status": "completed"
    },
    "tags": []
   },
   "source": [
    "## 5.1 Word Cloud visualization"
   ]
  },
  {
   "cell_type": "markdown",
   "metadata": {
    "papermill": {
     "duration": 0.046877,
     "end_time": "2023-02-06T09:43:21.566024",
     "exception": false,
     "start_time": "2023-02-06T09:43:21.519147",
     "status": "completed"
    },
    "tags": []
   },
   "source": [
    "## 5.2 Tfidf-vectorizing"
   ]
  },
  {
   "cell_type": "markdown",
   "metadata": {
    "papermill": {
     "duration": 0.046067,
     "end_time": "2023-02-06T09:43:21.658831",
     "exception": false,
     "start_time": "2023-02-06T09:43:21.612764",
     "status": "completed"
    },
    "tags": []
   },
   "source": [
    "**First, I will tokenize words to pass it on to the SnowballStemmer method, which will take out lemmas from words.**"
   ]
  },
  {
   "cell_type": "code",
   "execution_count": 30,
   "metadata": {
    "execution": {
     "iopub.execute_input": "2023-02-06T09:43:21.757615Z",
     "iopub.status.busy": "2023-02-06T09:43:21.756855Z",
     "iopub.status.idle": "2023-02-06T09:43:30.557367Z",
     "shell.execute_reply": "2023-02-06T09:43:30.556531Z",
     "shell.execute_reply.started": "2023-02-06T09:16:07.434028Z"
    },
    "papermill": {
     "duration": 8.852128,
     "end_time": "2023-02-06T09:43:30.557552",
     "exception": false,
     "start_time": "2023-02-06T09:43:21.705424",
     "status": "completed"
    },
    "tags": []
   },
   "outputs": [
    {
     "name": "stderr",
     "output_type": "stream",
     "text": [
      "[nltk_data] Downloading package punkt to\n",
      "[nltk_data]     C:\\Users\\chinm\\AppData\\Roaming\\nltk_data...\n",
      "[nltk_data]   Package punkt is already up-to-date!\n"
     ]
    }
   ],
   "source": [
    "import nltk\n",
    "nltk.download('punkt')\n",
    "from nltk import word_tokenize\n",
    "\n",
    "nlp['title'] = nlp['title'].apply(lambda x: word_tokenize(str(x)))"
   ]
  },
  {
   "cell_type": "markdown",
   "metadata": {
    "papermill": {
     "duration": 0.04879,
     "end_time": "2023-02-06T09:43:30.655779",
     "exception": false,
     "start_time": "2023-02-06T09:43:30.606989",
     "status": "completed"
    },
    "tags": []
   },
   "source": [
    "**An important step in every NLP-task is to get the roots of words in order not to distract the model by 'different' words.**"
   ]
  },
  {
   "cell_type": "code",
   "execution_count": 31,
   "metadata": {
    "execution": {
     "iopub.execute_input": "2023-02-06T09:43:30.760451Z",
     "iopub.status.busy": "2023-02-06T09:43:30.759594Z",
     "iopub.status.idle": "2023-02-06T09:43:38.919705Z",
     "shell.execute_reply": "2023-02-06T09:43:38.920267Z",
     "shell.execute_reply.started": "2023-02-06T09:16:16.538710Z"
    },
    "papermill": {
     "duration": 8.218297,
     "end_time": "2023-02-06T09:43:38.920509",
     "exception": false,
     "start_time": "2023-02-06T09:43:30.702212",
     "status": "completed"
    },
    "tags": []
   },
   "outputs": [],
   "source": [
    "from nltk.stem import SnowballStemmer\n",
    "\n",
    "snowball = SnowballStemmer(language='english')\n",
    "nlp['title'] = nlp['title'].apply(lambda x: [snowball.stem(y) for y in x])"
   ]
  },
  {
   "cell_type": "code",
   "execution_count": 32,
   "metadata": {
    "execution": {
     "iopub.execute_input": "2023-02-06T09:43:39.054871Z",
     "iopub.status.busy": "2023-02-06T09:43:39.033965Z",
     "iopub.status.idle": "2023-02-06T09:43:39.084708Z",
     "shell.execute_reply": "2023-02-06T09:43:39.083988Z",
     "shell.execute_reply.started": "2023-02-06T09:16:24.830527Z"
    },
    "papermill": {
     "duration": 0.114877,
     "end_time": "2023-02-06T09:43:39.084906",
     "exception": false,
     "start_time": "2023-02-06T09:43:38.970029",
     "status": "completed"
    },
    "tags": []
   },
   "outputs": [],
   "source": [
    "nlp['title'] = nlp['title'].apply(lambda x: ' '.join(x))"
   ]
  },
  {
   "cell_type": "markdown",
   "metadata": {
    "papermill": {
     "duration": 0.047695,
     "end_time": "2023-02-06T09:43:39.179490",
     "exception": false,
     "start_time": "2023-02-06T09:43:39.131795",
     "status": "completed"
    },
    "tags": []
   },
   "source": [
    "**Take the standard english bag of stopwords from nltk.**"
   ]
  },
  {
   "cell_type": "code",
   "execution_count": 33,
   "metadata": {
    "execution": {
     "iopub.execute_input": "2023-02-06T09:43:39.279699Z",
     "iopub.status.busy": "2023-02-06T09:43:39.278839Z",
     "iopub.status.idle": "2023-02-06T09:43:39.423454Z",
     "shell.execute_reply": "2023-02-06T09:43:39.422744Z",
     "shell.execute_reply.started": "2023-02-06T09:16:24.895369Z"
    },
    "papermill": {
     "duration": 0.196907,
     "end_time": "2023-02-06T09:43:39.423649",
     "exception": false,
     "start_time": "2023-02-06T09:43:39.226742",
     "status": "completed"
    },
    "tags": []
   },
   "outputs": [
    {
     "name": "stderr",
     "output_type": "stream",
     "text": [
      "[nltk_data] Downloading package words to\n",
      "[nltk_data]     C:\\Users\\chinm\\AppData\\Roaming\\nltk_data...\n",
      "[nltk_data]   Package words is already up-to-date!\n",
      "[nltk_data] Downloading package stopwords to\n",
      "[nltk_data]     C:\\Users\\chinm\\AppData\\Roaming\\nltk_data...\n",
      "[nltk_data]   Package stopwords is already up-to-date!\n"
     ]
    }
   ],
   "source": [
    "from nltk.corpus import stopwords \n",
    "\n",
    "nltk.download('words')\n",
    "nltk.download('stopwords')\n",
    "stopwords = stopwords.words('english')"
   ]
  },
  {
   "cell_type": "code",
   "execution_count": 34,
   "metadata": {
    "execution": {
     "iopub.execute_input": "2023-02-06T09:43:39.623803Z",
     "iopub.status.busy": "2023-02-06T09:43:39.623015Z",
     "iopub.status.idle": "2023-02-06T09:43:40.480509Z",
     "shell.execute_reply": "2023-02-06T09:43:40.479720Z",
     "shell.execute_reply.started": "2023-02-06T09:16:25.176433Z"
    },
    "papermill": {
     "duration": 0.909774,
     "end_time": "2023-02-06T09:43:40.480701",
     "exception": false,
     "start_time": "2023-02-06T09:43:39.570927",
     "status": "completed"
    },
    "tags": []
   },
   "outputs": [],
   "source": [
    "from sklearn.feature_extraction.text import TfidfVectorizer\n",
    "\n",
    "tfidf = TfidfVectorizer()\n",
    "X_text = tfidf.fit_transform(nlp['title'])"
   ]
  },
  {
   "cell_type": "code",
   "execution_count": 35,
   "metadata": {
    "execution": {
     "iopub.execute_input": "2023-02-06T09:43:40.586404Z",
     "iopub.status.busy": "2023-02-06T09:43:40.585616Z",
     "iopub.status.idle": "2023-02-06T09:43:40.599846Z",
     "shell.execute_reply": "2023-02-06T09:43:40.600496Z",
     "shell.execute_reply.started": "2023-02-06T09:16:25.991778Z"
    },
    "papermill": {
     "duration": 0.069245,
     "end_time": "2023-02-06T09:43:40.600734",
     "exception": false,
     "start_time": "2023-02-06T09:43:40.531489",
     "status": "completed"
    },
    "tags": []
   },
   "outputs": [],
   "source": [
    "from sklearn.model_selection import train_test_split\n",
    "X_train, X_test, y_train, y_test = train_test_split(X_text, nlp['flag'], test_size=0.33, random_state=1)"
   ]
  },
  {
   "cell_type": "code",
   "execution_count": 44,
   "metadata": {
    "execution": {
     "iopub.execute_input": "2023-02-06T09:43:41.183089Z",
     "iopub.status.busy": "2023-02-06T09:43:41.182224Z",
     "iopub.status.idle": "2023-02-06T09:43:41.187449Z",
     "shell.execute_reply": "2023-02-06T09:43:41.188354Z",
     "shell.execute_reply.started": "2023-02-06T09:16:26.009617Z"
    },
    "papermill": {
     "duration": 0.05785,
     "end_time": "2023-02-06T09:43:41.188670",
     "exception": false,
     "start_time": "2023-02-06T09:43:41.130820",
     "status": "completed"
    },
    "tags": []
   },
   "outputs": [],
   "source": [
    "scores = {}\n",
    "from sklearn.svm import LinearSVC\n",
    "from sklearn.model_selection import cross_val_score\n",
    "from sklearn.metrics import accuracy_score"
   ]
  },
  {
   "cell_type": "code",
   "execution_count": 38,
   "metadata": {
    "execution": {
     "iopub.execute_input": "2023-02-06T09:43:42.093079Z",
     "iopub.status.busy": "2023-02-06T09:43:42.091984Z",
     "iopub.status.idle": "2023-02-06T09:43:42.172649Z",
     "shell.execute_reply": "2023-02-06T09:43:42.173509Z",
     "shell.execute_reply.started": "2023-02-06T09:16:26.524614Z"
    },
    "papermill": {
     "duration": 0.135999,
     "end_time": "2023-02-06T09:43:42.173927",
     "exception": false,
     "start_time": "2023-02-06T09:43:42.037928",
     "status": "completed"
    },
    "tags": []
   },
   "outputs": [
    {
     "name": "stdout",
     "output_type": "stream",
     "text": [
      "[0.95401759 0.94864393 0.94736842]\n",
      "0.9787767832926498\n"
     ]
    }
   ],
   "source": [
    "from sklearn.naive_bayes import MultinomialNB\n",
    "\n",
    "clf2 = MultinomialNB()\n",
    "clf2.fit(X_train, y_train)\n",
    "\n",
    "y_pred_MNB = clf2.predict(X_test)\n",
    "print(cross_val_score(clf2, X_text, nlp['flag'], cv=3))\n",
    "print(accuracy_score(y_pred_MNB, y_test))\n",
    "\n",
    "scores['MultinomialNB'] = accuracy_score(y_pred_MNB, y_test)"
   ]
  },
  {
   "attachments": {},
   "cell_type": "markdown",
   "metadata": {
    "papermill": {
     "duration": 0.047612,
     "end_time": "2023-02-06T09:44:15.054978",
     "exception": false,
     "start_time": "2023-02-06T09:44:15.007366",
     "status": "completed"
    },
    "tags": []
   },
   "source": [
    "# 6. Conclusion\n",
    "\n",
    "**NLP can be used to detect and classify fake news, and can be a powerful tool in fighting its damaging effects. By exploring different techniques and approaches, we can gain an understanding of how NLP can be used to combat fake news. We have trained & tested 2 models for NLP task (implementing the traditional NLP preprocessing strategies). They all perform very good, however this is most likely due to the high correlation of the target other categorical features (such as 'subject'). If we did not add it to analysis, the result could have been totally different.**\n",
    "\n"
   ]
  }
 ],
 "metadata": {
  "kernelspec": {
   "display_name": "Python 3",
   "language": "python",
   "name": "python3"
  },
  "language_info": {
   "codemirror_mode": {
    "name": "ipython",
    "version": 3
   },
   "file_extension": ".py",
   "mimetype": "text/x-python",
   "name": "python",
   "nbconvert_exporter": "python",
   "pygments_lexer": "ipython3",
   "version": "3.11.0"
  },
  "papermill": {
   "default_parameters": {},
   "duration": 121.765763,
   "end_time": "2023-02-06T09:44:16.021759",
   "environment_variables": {},
   "exception": null,
   "input_path": "__notebook__.ipynb",
   "output_path": "__notebook__.ipynb",
   "parameters": {},
   "start_time": "2023-02-06T09:42:14.255996",
   "version": "2.2.2"
  },
  "vscode": {
   "interpreter": {
    "hash": "4eb365e55a17fd778c0f4e3463f26ecb1d8f397f95baa2e793cc384bf730cb73"
   }
  }
 },
 "nbformat": 4,
 "nbformat_minor": 4
}
